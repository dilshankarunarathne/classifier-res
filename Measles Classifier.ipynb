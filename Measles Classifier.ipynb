{
 "cells": [
  {
   "cell_type": "code",
   "execution_count": null,
   "metadata": {
    "collapsed": true
   },
   "outputs": [],
   "source": [
    "import pandas as pd\n",
    "import numpy as np\n",
    "import cv2\n",
    "import os\n",
    "from random import shuffle\n",
    "import random\n",
    "#for preprocessing\n",
    "from tensorflow.keras.preprocessing import image\n",
    "import matplotlib.pyplot as plt\n",
    "from tensorflow.keras.utils import to_categorical\n",
    "from tensorflow.keras.models import Sequential\n",
    "from tensorflow.keras.layers import Conv2D,MaxPooling2D,Dense,Flatten,Dropout\n",
    "from tensorflow.keras.callbacks import EarlyStopping, ModelCheckpoint, ReduceLROnPlateau\n",
    "from random import shuffle\n",
    "#For augmentation\n",
    "from tensorflow.keras.preprocessing.image import ImageDataGenerator\n",
    "#Transfer learning models\n",
    "from tensorflow.keras.applications.mobilenet_v2 import MobileNetV2\n",
    "from tensorflow.keras import Model, layers\n",
    "from numpy import loadtxt\n",
    "import itertools\n",
    "from sklearn.metrics import confusion_matrix,classification_report\n",
    "from tensorflow.keras.applications.imagenet_utils import preprocess_input, decode_predictions\n",
    "from tensorflow.keras.models import load_model"
   ]
  },
  {
   "cell_type": "code",
   "execution_count": null,
   "outputs": [],
   "source": [
    "from google.colab import drive\n",
    "drive.mount('/content/gdrive')"
   ],
   "metadata": {
    "collapsed": false
   }
  },
  {
   "cell_type": "code",
   "execution_count": null,
   "outputs": [],
   "source": [
    "# setting path of directory\n",
    "M_DIR =  \"/content/gdrive/My Drive/Colab Notebooks/Measles/\"\n",
    "O_DIR = \"/content/gdrive/My Drive/Colab Notebooks/Others/\"\n",
    "# storing all the files from directories M_DIR and O_DIR to Mimages and Oimages for accessing images directly\n",
    "Mimages = os.listdir(M_DIR)\n",
    "Oimages = os.listdir(O_DIR)\n",
    "sample_monkeypox = random.sample(Mimages,6)\n",
    "f,ax = plt.subplots(2,3,figsize=(15,9))\n",
    "for i in range(0,6):\n",
    "    im = cv2.imread(M_DIR +sample_monkeypox[i])\n",
    "    ax[i//3,i%3].imshow(im)\n",
    "    ax[i//3,i%3].axis('off')\n",
    "f.suptitle('Measles sample images',fontsize=20)\n",
    "plt.show()"
   ],
   "metadata": {
    "collapsed": false
   }
  },
  {
   "cell_type": "code",
   "execution_count": null,
   "outputs": [],
   "source": [
    "sample_others = random.sample(Oimages,6)\n",
    "f,ax = plt.subplots(2,3,figsize=(15,9))\n",
    "for i in range(0,6):\n",
    "    im = cv2.imread(O_DIR +sample_others[i])\n",
    "    ax[i//3,i%3].imshow(im)\n",
    "    ax[i//3,i%3].axis('off')\n",
    "f.suptitle('Others sample images',fontsize=20)\n",
    "plt.show()"
   ],
   "metadata": {
    "collapsed": false
   }
  },
  {
   "cell_type": "code",
   "execution_count": null,
   "outputs": [],
   "source": [
    "import PIL\n",
    "\n",
    "data=[]\n",
    "labels=[]\n",
    "for m in Mimages:\n",
    "    try:\n",
    "        image=cv2.imread(M_DIR+m)\n",
    "        image_from_array = PIL.Image.fromarray(image, 'RGB')\n",
    "        size_image = image_from_array.resize((224, 224))\n",
    "        data.append(np.array(size_image))\n",
    "        labels.append(1)\n",
    "    except AttributeError:\n",
    "        print(\"\")\n",
    "\n",
    "for o in Oimages:\n",
    "    try:\n",
    "        image=cv2.imread(O_DIR+o)\n",
    "        image_from_array = PIL.Image.fromarray(image, 'RGB')\n",
    "        size_image = image_from_array.resize((224, 224))\n",
    "        data.append(np.array(size_image))\n",
    "        labels.append(0)\n",
    "    except AttributeError:\n",
    "        print(\"\")"
   ],
   "metadata": {
    "collapsed": false
   }
  },
  {
   "cell_type": "code",
   "execution_count": null,
   "outputs": [],
   "source": [
    "#converting features and labels in array\n",
    "feats=np.array(data)\n",
    "labels=np.array(labels)\n",
    "\n",
    "# saving features and labels for later re-use\n",
    "np.save(\"/content/gdrive/My Drive/Colab Notebooks/me_feats_train\",feats)\n",
    "np.save(\"/content/gdrive/My Drive/Colab Notebooks/me_labels_train\",labels)"
   ],
   "metadata": {
    "collapsed": false
   }
  },
  {
   "cell_type": "code",
   "execution_count": null,
   "outputs": [],
   "source": [
    "feats=np.load(\"/content/gdrive/My Drive/Colab Notebooks/me_feats_train.npy\")\n",
    "labels=np.load(\"/content/gdrive/My Drive/Colab Notebooks/me_labels_train.npy\")\n",
    "\n",
    "s=np.arange(feats.shape[0])\n",
    "np.random.shuffle(s)\n",
    "feats=feats[s]\n",
    "labels=labels[s]\n",
    "\n",
    "num_classes=len(np.unique(labels))\n",
    "len_data=len(feats)\n",
    "print(len_data)"
   ],
   "metadata": {
    "collapsed": false
   }
  },
  {
   "cell_type": "code",
   "execution_count": null,
   "outputs": [],
   "source": [
    "# splitting cells images into 80:20 ratio i.e., 80% for training and 20% for testing purpose\n",
    "(x_train,x_test)=feats[(int)(0.2*len_data):],feats[:(int)(0.2*len_data)]\n",
    "\n",
    "(y_train,y_test)=labels[(int)(0.2*len_data):],labels[:(int)(0.2*len_data)]"
   ],
   "metadata": {
    "collapsed": false
   }
  }
 ],
 "metadata": {
  "kernelspec": {
   "display_name": "Python 3",
   "language": "python",
   "name": "python3"
  },
  "language_info": {
   "codemirror_mode": {
    "name": "ipython",
    "version": 2
   },
   "file_extension": ".py",
   "mimetype": "text/x-python",
   "name": "python",
   "nbconvert_exporter": "python",
   "pygments_lexer": "ipython2",
   "version": "2.7.6"
  }
 },
 "nbformat": 4,
 "nbformat_minor": 0
}
